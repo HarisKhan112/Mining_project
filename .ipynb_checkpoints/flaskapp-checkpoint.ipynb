{
 "cells": [
  {
   "cell_type": "code",
   "execution_count": null,
   "id": "7e616cd1",
   "metadata": {},
   "outputs": [],
   "source": [
    "from flask import Flask, render_template\n",
    "import pickle\n",
    "import pandas as pd\n",
    "import matplotlib.pyplot as plt\n",
    "import numpy as np\n",
    "\n",
    "app = Flask(__name__)\n",
    "\n",
    "# Load the pickled model results\n",
    "with open('arima_model.pkl', 'rb') as f:\n",
    "    arima_result = pickle.load(f)\n",
    "\n",
    "# Function to generate forecast\n",
    "def generate_forecast(steps=7):\n",
    "    forecast = arima_result.forecast(steps=steps)\n",
    "    return forecast\n",
    "\n",
    "# Route for home page\n",
    "@app.route('/')\n",
    "def home():\n",
    "    return render_template('index.html')\n",
    "\n",
    "# Route for forecast page\n",
    "@app.route('/forecast')\n",
    "def forecast():\n",
    "    # Generate forecast\n",
    "    forecast_values = generate_forecast(steps=7)\n",
    "    forecast_dates = pd.date_range(start=pd.Timestamp.now().date(), periods=7, freq='D')\n",
    "    \n",
    "    # Plot forecast\n",
    "    plt.figure(figsize=(10, 5))\n",
    "    plt.plot(forecast_dates, forecast_values, label='Forecast')\n",
    "    plt.xlabel('Date')\n",
    "    plt.ylabel('CO2 Levels')\n",
    "    plt.title('Forecasted CO2 Levels')\n",
    "    plt.legend()\n",
    "    plt.grid(True)\n",
    "    plt.xticks(rotation=45)\n",
    "    plt.tight_layout()\n",
    "    plot_path = 'static/forecast_plot.png'\n",
    "    plt.savefig(plot_path)\n",
    "    \n",
    "    return render_template('forecast.html', plot_path=plot_path, forecast_dates=forecast_dates, forecast_values=forecast_values)\n",
    "\n",
    "if __name__ == '__main__':\n",
    "    app.run(debug=True)\n"
   ]
  }
 ],
 "metadata": {
  "kernelspec": {
   "display_name": "Python 3 (ipykernel)",
   "language": "python",
   "name": "python3"
  },
  "language_info": {
   "codemirror_mode": {
    "name": "ipython",
    "version": 3
   },
   "file_extension": ".py",
   "mimetype": "text/x-python",
   "name": "python",
   "nbconvert_exporter": "python",
   "pygments_lexer": "ipython3",
   "version": "3.10.9"
  }
 },
 "nbformat": 4,
 "nbformat_minor": 5
}
